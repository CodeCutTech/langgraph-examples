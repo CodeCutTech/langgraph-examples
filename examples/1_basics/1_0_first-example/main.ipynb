{
 "cells": [
  {
   "cell_type": "code",
   "execution_count": null,
   "id": "3b98848a",
   "metadata": {},
   "outputs": [
    {
     "name": "stdout",
     "output_type": "stream",
     "text": [
      "--- step ---\n",
      "Profile data: {'messages': [{'role': 'user', 'content': \"Provide Jane's tickets\"}, {'role': 'system', 'content': 'Loaded profile: Jane, segment premium'}], 'profile': Profile(id='123', name='Jane', segment='premium')}\n",
      "--- step ---\n",
      "Feedback data: {'messages': [{'role': 'user', 'content': \"Provide Jane's tickets\"}, {'role': 'system', 'content': 'Loaded profile: Jane, segment premium'}, {'role': 'system', 'content': 'Feedback notes: 2 comments'}], 'feedback': Feedback(customer_id='123', comments=['Great product!', 'Support was slow.'])}\n",
      "--- step ---\n",
      "Tickets data: {'messages': [{'role': 'user', 'content': \"Provide Jane's tickets\"}, {'role': 'system', 'content': 'Loaded profile: Jane, segment premium'}, {'role': 'system', 'content': 'Feedback notes: 2 comments'}, {'role': 'system', 'content': 'Found 1 open tickets'}], 'tickets': [Ticket(id='t1', status='open', issue='Login failed')]}\n"
     ]
    }
   ],
   "source": [
    "from pydantic import BaseModel\n",
    "from langgraph.graph import StateGraph, START, END\n",
    "\n",
    "class Profile(BaseModel):\n",
    "    id: str\n",
    "    name: str\n",
    "    segment: str\n",
    "\n",
    "class Feedback(BaseModel):\n",
    "    customer_id: str\n",
    "    comments: list[str]\n",
    "\n",
    "class Ticket(BaseModel):\n",
    "    id: str\n",
    "    status: str\n",
    "    issue: str\n",
    "\n",
    "# Mocked data function for data retrieval\n",
    "def get_profile(state):\n",
    "    messages = state.get(\"messages\", [])\n",
    "    profile = Profile(id=\"123\", name=\"Jane\", segment=\"premium\")\n",
    "    messages.append({\"role\": \"system\", \"content\": f\"Loaded profile: {profile.name}, segment {profile.segment}\"})\n",
    "    return {\"messages\": messages, \"profile\": profile}\n",
    "\n",
    "def get_feedback(state):\n",
    "    messages = state.get(\"messages\", [])\n",
    "    feedback = Feedback(customer_id=\"123\", comments=[\"Great product!\", \"Support was slow.\"])\n",
    "    messages.append({\"role\": \"system\", \"content\": f\"Feedback notes: {len(feedback.comments)} comments\"})\n",
    "    return {\"messages\": messages, \"feedback\": feedback}\n",
    "\n",
    "def get_tickets(state):\n",
    "    messages = state.get(\"messages\", [])\n",
    "    tickets = [Ticket(id=\"t1\", status=\"open\", issue=\"Login failed\")]\n",
    "    messages.append({\"role\": \"system\", \"content\": f\"Found {len(tickets)} open tickets\"})\n",
    "    return {\"messages\": messages, \"tickets\": tickets}\n",
    "\n",
    "builder = StateGraph(dict)\n",
    "\n",
    "builder.add_node(\"profile\", get_profile)\n",
    "builder.add_node(\"feedback\", get_feedback)\n",
    "builder.add_node(\"tickets\", get_tickets)\n",
    "    \n",
    "builder.add_edge(START, \"profile\")\n",
    "builder.add_edge(\"profile\", \"feedback\")\n",
    "builder.add_edge(\"feedback\", \"tickets\")\n",
    "builder.add_edge(\"tickets\", END)\n",
    "\n",
    "graph = builder.compile()\n",
    "\n",
    "user_input = \"Provide Jane's tickets\"\n",
    "# Initialize messages as a conversation list\n",
    "initial_state = {\"messages\": [{\"role\": \"user\", \"content\": user_input}]}\n",
    "\n",
    "for step in graph.stream(initial_state, {\"recursion_limit\": 5}):\n",
    "    print(\"--- step ---\")\n",
    "    # Pretty-print the latest system message and structured data\n",
    "    messages = step.get(\"messages\", [])\n",
    "    if messages:\n",
    "        print(f\"Last system message: {messages[-1]}\")\n",
    "    # Also print any structured outputs added at this step\n",
    "    for key in [\"profile\", \"feedback\", \"tickets\"]:\n",
    "        if key in step:\n",
    "            print(f\"{key.capitalize()} data: {step[key]}\")\n",
    "    \"\"\"\n",
    "    Output:\n",
    "    --- step ---\n",
    "    Profile data: {'messages': [{'role': 'user', 'content': \"Provide Jane's tickets\"}, {'role': 'system', 'content': 'Loaded profile: Jane, segment premium'}], 'profile': Profile(id='123', name='Jane', segment='premium')}\n",
    "    --- step ---\n",
    "    Feedback data: {'messages': [{'role': 'user', 'content': \"Provide Jane's tickets\"}, {'role': 'system', 'content': 'Loaded profile: Jane, segment premium'}, {'role': 'system', 'content': 'Feedback notes: 2 comments'}], 'feedback': Feedback(customer_id='123', comments=['Great product!', 'Support was slow.'])}\n",
    "    --- step ---\n",
    "    Tickets data: {'messages': [{'role': 'user', 'content': \"Provide Jane's tickets\"}, {'role': 'system', 'content': 'Loaded profile: Jane, segment premium'}, {'role': 'system', 'content': 'Feedback notes: 2 comments'}, {'role': 'system', 'content': 'Found 1 open tickets'}], 'tickets': [Ticket(id='t1', status='open', issue='Login failed')]}\n",
    "    \"\"\"\n"
   ]
  },
  {
   "cell_type": "code",
   "execution_count": 5,
   "id": "d7c4f86e",
   "metadata": {},
   "outputs": [
    {
     "data": {
      "image/png": "[encoded data removed]",
      "text/plain": [
       "<IPython.core.display.Image object>"
      ]
     },
     "metadata": {},
     "output_type": "display_data"
    }
   ],
   "source": [
    "from IPython.display import Image, display\n",
    "\n",
    "try:\n",
    "    display(Image(graph.get_graph().draw_mermaid_png()))\n",
    "except Exception:\n",
    "    print(\"Optional: install graphviz and Mermaid dependencies for rendering.\")"
   ]
  },
  {
   "cell_type": "code",
   "execution_count": null,
   "id": "b308d419",
   "metadata": {},
   "outputs": [],
   "source": []
  }
 ],
 "metadata": {
  "kernelspec": {
   "display_name": "Python 3",
   "language": "python",
   "name": "python3"
  },
  "language_info": {
   "codemirror_mode": {
    "name": "ipython",
    "version": 3
   },
   "file_extension": ".py",
   "mimetype": "text/x-python",
   "name": "python",
   "nbconvert_exporter": "python",
   "pygments_lexer": "ipython3",
   "version": "3.12.3"
  }
 },
 "nbformat": 4,
 "nbformat_minor": 5
}
